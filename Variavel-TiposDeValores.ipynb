{
  "nbformat": 4,
  "nbformat_minor": 0,
  "metadata": {
    "colab": {
      "name": "VARIÁVEL E TIPOS DE VALORES.ipynb",
      "provenance": [],
      "collapsed_sections": [],
      "authorship_tag": "ABX9TyMN8p19MnONxhmi8MyBqyDf",
      "include_colab_link": true
    },
    "kernelspec": {
      "name": "python3",
      "display_name": "Python 3"
    },
    "language_info": {
      "name": "python"
    }
  },
  "cells": [
    {
      "cell_type": "markdown",
      "metadata": {
        "id": "view-in-github",
        "colab_type": "text"
      },
      "source": [
        "<a href=\"https://colab.research.google.com/github/Isiumlord/GlowUpDataEngineerStudy/blob/main/Variavel-TiposDeValores.ipynb\" target=\"_parent\"><img src=\"https://colab.research.google.com/assets/colab-badge.svg\" alt=\"Open In Colab\"/></a>"
      ]
    },
    {
      "cell_type": "markdown",
      "source": [
        "><small>*Caso não consiga ver os retornos dos códigos, sugiro ver diretamente na plataforma do Colab. É só clicar no botão a esquerda \"Open in Colab\"*"
      ],
      "metadata": {
        "id": "QzGwH-VzI-S9"
      }
    },
    {
      "cell_type": "markdown",
      "source": [
        "#VARIÁVEIS\n",
        "Vamos ver como as variavéis se apresentam dentro do código."
      ],
      "metadata": {
        "id": "IllDM6kTt9u8"
      }
    },
    {
      "cell_type": "code",
      "source": [
        "#Exemplo de variáveis\n",
        "nome = \"Maria\"\n",
        "numero = 1\n",
        "decimal = 7.1\n",
        "condicao = True\n",
        "a = 0\n",
        "b = 2\n",
        "conta = a + b"
      ],
      "metadata": {
        "id": "yi_Pnkwxa-Dn"
      },
      "execution_count": null,
      "outputs": []
    },
    {
      "cell_type": "markdown",
      "source": [
        "#TIPOS DE VALORES\n",
        "TESTANDO VARIÁVEIS PARA SABER QUAL O TIPO DELAS\n",
        "\n",
        "Para testar as variavéis usaremos a função `type()`, essa função lê a variável e retorna o tipo de valor que essa variavél tem."
      ],
      "metadata": {
        "id": "zJgdCIE09MfV"
      }
    },
    {
      "cell_type": "code",
      "source": [
        "#Testando variável nome = \"Maria\"\n",
        "type(nome)"
      ],
      "metadata": {
        "colab": {
          "base_uri": "https://localhost:8080/"
        },
        "id": "D5yL_Pbr9K3D",
        "outputId": "adef8f64-8a51-40fb-a374-c274c3532325"
      },
      "execution_count": null,
      "outputs": [
        {
          "output_type": "execute_result",
          "data": {
            "text/plain": [
              "str"
            ]
          },
          "metadata": {},
          "execution_count": 25
        }
      ]
    },
    {
      "cell_type": "code",
      "source": [
        "#Testando variável numero = 1\n",
        "type(numero)"
      ],
      "metadata": {
        "colab": {
          "base_uri": "https://localhost:8080/"
        },
        "id": "_y-751_UCc-f",
        "outputId": "d9cd5397-df2d-43c4-f3fd-f0a432b82465"
      },
      "execution_count": null,
      "outputs": [
        {
          "output_type": "execute_result",
          "data": {
            "text/plain": [
              "int"
            ]
          },
          "metadata": {},
          "execution_count": 26
        }
      ]
    },
    {
      "cell_type": "code",
      "source": [
        "#Testando variável decimal = 7.1\n",
        "type(decimal)"
      ],
      "metadata": {
        "colab": {
          "base_uri": "https://localhost:8080/"
        },
        "id": "80MeQEdPCSty",
        "outputId": "c774a3b9-efe3-42e4-ea56-3c2a81d87343"
      },
      "execution_count": null,
      "outputs": [
        {
          "output_type": "execute_result",
          "data": {
            "text/plain": [
              "float"
            ]
          },
          "metadata": {},
          "execution_count": 27
        }
      ]
    },
    {
      "cell_type": "code",
      "source": [
        "#Testando variável condicao = True\n",
        "type(condicao)"
      ],
      "metadata": {
        "colab": {
          "base_uri": "https://localhost:8080/"
        },
        "id": "0yNnziGbC4lo",
        "outputId": "2abdef7f-5ab7-4732-846b-79d4cb8e93a9"
      },
      "execution_count": null,
      "outputs": [
        {
          "output_type": "execute_result",
          "data": {
            "text/plain": [
              "bool"
            ]
          },
          "metadata": {},
          "execution_count": 28
        }
      ]
    },
    {
      "cell_type": "code",
      "source": [
        "#Testando variável conta = a + b\n",
        "type(conta)"
      ],
      "metadata": {
        "colab": {
          "base_uri": "https://localhost:8080/"
        },
        "id": "v6ntAlY-52aE",
        "outputId": "c2b1a044-cebf-463c-ff25-d71c34a706cf"
      },
      "execution_count": null,
      "outputs": [
        {
          "output_type": "execute_result",
          "data": {
            "text/plain": [
              "int"
            ]
          },
          "metadata": {},
          "execution_count": 29
        }
      ]
    },
    {
      "cell_type": "markdown",
      "source": [
        "Notou que a função `type()` retornou para cada variável um resultado diferente? Isso se dá por que cada variável de exemplo contem um tipo de valor diferente.\n",
        "* str (abreviação de string) = texto\n",
        "* int = número inteiro\n",
        "* float = número com casa decimal\n",
        "* bool (abreviação de boolean) = True ou False\n",
        "<br><br>\n",
        "#COMPORTAMENTO\n",
        "Agora que sabemos como identificar os tipos das variavéis, vamos utiliza-las. Lembra que no começo foi dito que deveriamos saber os tipos dos valores por que ao fazermos contas, por exemplo 1+1, \"string\" e \"int\" não calculavam. Então, vamos ver se é verdade?"
      ],
      "metadata": {
        "id": "Ohw2qCVBDNnM"
      }
    },
    {
      "cell_type": "code",
      "source": [
        "#Variáveis com valores\n",
        "a = \"1\"\n",
        "b = 1\n",
        "\n",
        "#Calculo\n",
        "calculo = a + b\n",
        "\n",
        "#Resposta\n",
        "print(calculo)"
      ],
      "metadata": {
        "colab": {
          "base_uri": "https://localhost:8080/",
          "height": 245
        },
        "id": "GUkn9N2RDvuy",
        "outputId": "a14612ba-6e17-4565-a081-bda5b01cae4b"
      },
      "execution_count": null,
      "outputs": [
        {
          "output_type": "error",
          "ename": "TypeError",
          "evalue": "ignored",
          "traceback": [
            "\u001b[0;31m---------------------------------------------------------------------------\u001b[0m",
            "\u001b[0;31mTypeError\u001b[0m                                 Traceback (most recent call last)",
            "\u001b[0;32m<ipython-input-30-ba25875ccb92>\u001b[0m in \u001b[0;36m<module>\u001b[0;34m()\u001b[0m\n\u001b[1;32m      4\u001b[0m \u001b[0;34m\u001b[0m\u001b[0m\n\u001b[1;32m      5\u001b[0m \u001b[0;31m#Calculo\u001b[0m\u001b[0;34m\u001b[0m\u001b[0;34m\u001b[0m\u001b[0;34m\u001b[0m\u001b[0m\n\u001b[0;32m----> 6\u001b[0;31m \u001b[0mcalculo\u001b[0m \u001b[0;34m=\u001b[0m \u001b[0ma\u001b[0m \u001b[0;34m+\u001b[0m \u001b[0mb\u001b[0m\u001b[0;34m\u001b[0m\u001b[0;34m\u001b[0m\u001b[0m\n\u001b[0m\u001b[1;32m      7\u001b[0m \u001b[0;34m\u001b[0m\u001b[0m\n\u001b[1;32m      8\u001b[0m \u001b[0;31m#Resposta\u001b[0m\u001b[0;34m\u001b[0m\u001b[0;34m\u001b[0m\u001b[0;34m\u001b[0m\u001b[0m\n",
            "\u001b[0;31mTypeError\u001b[0m: can only concatenate str (not \"int\") to str"
          ]
        }
      ]
    },
    {
      "cell_type": "markdown",
      "source": [
        "Ocorreu um erro. \n",
        "* \"string\" + \"int\", não calcula. Por que palavra + número, não calcula.\n",
        "<br>\n",
        "\n",
        "O Python fala isso para você, que a operação não é suportada. Mas e se fizermos:\n",
        "* \"int\" + \"int\"?\n",
        "* Ou, \"string\" + \"string\"?\n",
        "<br>\n",
        "\n",
        "Vamos tentar:"
      ],
      "metadata": {
        "id": "ckldeLuIIocs"
      }
    },
    {
      "cell_type": "code",
      "source": [
        "#Variáveis com valores\n",
        "a = 1\n",
        "b = \"2\"\n",
        "\n",
        "#Calculos\n",
        "calculo1 = a + a\n",
        "calculo2 = b + b\n",
        "\n",
        "#Respostas\n",
        "print(calculo1)\n",
        "print(calculo2)"
      ],
      "metadata": {
        "colab": {
          "base_uri": "https://localhost:8080/"
        },
        "id": "p79r4GLtKQm4",
        "outputId": "ed63414d-fc84-4215-addb-a565c6cfa833"
      },
      "execution_count": null,
      "outputs": [
        {
          "output_type": "stream",
          "name": "stdout",
          "text": [
            "2\n",
            "22\n"
          ]
        }
      ]
    },
    {
      "cell_type": "markdown",
      "source": [
        "Agora sim, calculados:\n",
        "* \"int\" + \"int\" = *1 + 1 = 2.*\n",
        "<br>\n",
        "\n",
        "Tudo normal no mundo da matématica.\n",
        "<br>\n",
        "\n",
        "Mas...\n",
        "* \"string\" + \"string\" resultou em 22, por quê?\n",
        "<br>\n",
        "\n",
        "*Antes que você pense que esse resultado é vinte e dois, já adianto. Não é vinte e dois.*\n",
        ">Quando realizamos \"string\" + \"string\", na verdade estamos CONCATENANDO.\n",
        "<br>\n",
        "\n",
        "Então o nosso resultado não é uma soma, e sim, uma UNIÃO. Onde:\n",
        "* \"string\" + \"string\" = 2 + 2 resultou em 2 e 2.\n",
        "<br>\n",
        "\n",
        ">É como se você ganhasse dois brinquedos no formato do número 2, mesmo colocando um do lado do outro e formando o número vinte e dois, você ainda assim, só tem dois brinquedos no formato do número 2; e não vinte e dois brinquedos.\n",
        "<br>\n",
        "\n",
        "Para melhor desenhar essa situação, vamos testar mais uma vezes \"string\" + \"string\"."
      ],
      "metadata": {
        "id": "wrYJVL-KKpwS"
      }
    },
    {
      "cell_type": "code",
      "source": [
        "#Váriaveis com valores\n",
        "a = \"Você\"\n",
        "b = \"&\"\n",
        "c = \"Python\"\n",
        "\n",
        "#Calculos\n",
        "calculo1 = a + b + c\n",
        "calculo2 = c + b + a\n",
        "\n",
        "#Resultados\n",
        "print(calculo1)\n",
        "print(calculo2)"
      ],
      "metadata": {
        "colab": {
          "base_uri": "https://localhost:8080/"
        },
        "id": "r_4GXbOKOa1Q",
        "outputId": "a2a0cc80-cfd8-4356-bc9e-cd1624318011"
      },
      "execution_count": null,
      "outputs": [
        {
          "output_type": "stream",
          "name": "stdout",
          "text": [
            "Você&Python\n",
            "Python&Você\n"
          ]
        }
      ]
    },
    {
      "cell_type": "markdown",
      "source": [
        "Viu. \n",
        "* No calculo1, o cálculo uniu as palavras \"Você\" + \"&\" + \"Python\", gerando uma nova palavra \"Você&Python\".\n",
        "* No calculo2, a mesma coisa acontece, apenas troca-se as palavras de lugar.\n",
        "<br>\n",
        "\n",
        "Isso é o resultado de uma CONCATENAÇÃO.\n",
        "\n",
        "Por enquanto é isto. [Clique para saber+](https://github.com/Isiumlord/GlowUpDataEngineerStudy/blob/main/Python.md)."
      ],
      "metadata": {
        "id": "smdZpzrC7k41"
      }
    }
  ]
}