{
  "nbformat": 4,
  "nbformat_minor": 0,
  "metadata": {
    "colab": {
      "name": "PRINT E FORMAT.ipynb",
      "provenance": [],
      "authorship_tag": "ABX9TyPTFr+brxuMjb6jdtvu5JBw",
      "include_colab_link": true
    },
    "kernelspec": {
      "name": "python3",
      "display_name": "Python 3"
    },
    "language_info": {
      "name": "python"
    }
  },
  "cells": [
    {
      "cell_type": "markdown",
      "metadata": {
        "id": "view-in-github",
        "colab_type": "text"
      },
      "source": [
        "<a href=\"https://colab.research.google.com/github/Isiumlord/GlowUpDataEngineerStudy/blob/main/PythonNotebooks/Print-Format.ipynb\" target=\"_parent\"><img src=\"https://colab.research.google.com/assets/colab-badge.svg\" alt=\"Open In Colab\"/></a>"
      ]
    },
    {
      "cell_type": "markdown",
      "source": [
        "><small>*Caso não consiga ver os retornos dos códigos, sugiro ver diretamente na plataforma do Colab. É só clicar no botão a esquerda \"Open in Colab\"*"
      ],
      "metadata": {
        "id": "zVGHxdwTQ5rn"
      }
    },
    {
      "cell_type": "markdown",
      "source": [
        "#PRINT\n",
        "\n",
        ">É a função que imprime/exibe dados na tela."
      ],
      "metadata": {
        "id": "foXpAOCSbKnj"
      }
    },
    {
      "cell_type": "code",
      "execution_count": 160,
      "metadata": {
        "colab": {
          "base_uri": "https://localhost:8080/"
        },
        "id": "mGnet5qJbGIm",
        "outputId": "412086c5-c563-42c7-fa2e-061777894a03"
      },
      "outputs": [
        {
          "output_type": "stream",
          "name": "stdout",
          "text": [
            "Oi, eu sou um print e estou sendo impresso na sua tela.\n",
            "\n",
            "Você viu que onde eu escrevi print() sozinho pulou uma linha?\n",
            "Foi por que eu imprimi uma linha vazia.\n"
          ]
        }
      ],
      "source": [
        "#Utilizando o Print\n",
        "print(\"Oi, eu sou um print e estou sendo impresso na sua tela.\")\n",
        "print()\n",
        "print(\"Você viu que onde eu escrevi print() sozinho pulou uma linha?\")\n",
        "print(\"Foi por que eu imprimi uma linha vazia.\")"
      ]
    },
    {
      "cell_type": "markdown",
      "source": [
        "Agora vamos usar o Print para mostrar algumas operações matemáticas."
      ],
      "metadata": {
        "id": "iWWVNy4HcA4s"
      }
    },
    {
      "cell_type": "code",
      "source": [
        "#Variáveis com valores\n",
        "a = 15\n",
        "b = 36\n",
        "\n",
        "#Calculos\n",
        "calculo1 = a * b / 156\n",
        "calculo2 = b + a - 89.0012\n",
        "\n",
        "#Imprimindo resultados\n",
        "print(calculo1)\n",
        "print(calculo2)"
      ],
      "metadata": {
        "colab": {
          "base_uri": "https://localhost:8080/"
        },
        "id": "-Fk_XeuPcLDg",
        "outputId": "0682cf0a-277b-4c14-bb14-b409b27d982f"
      },
      "execution_count": 161,
      "outputs": [
        {
          "output_type": "stream",
          "name": "stdout",
          "text": [
            "3.4615384615384617\n",
            "-38.0012\n"
          ]
        }
      ]
    },
    {
      "cell_type": "markdown",
      "source": [
        "A visualização dos resultados ficou um pouco embaralhada, você não acha? Vamos melhorar isso.\n",
        "\n",
        "Para ajudar a escrever de uma forma mais clara, nós vamos usar essa estrutura:\n",
        "* `print(\"mensagem\", variavel)`\n",
        "<br>\n",
        "\n",
        "*Não esqueça, a mensagem deve ser escrita entre \"aspas\", e quando for escrever a Variável você tem que colocar uma vírgula para separar o que é mensagem, e o que é variável.*\n"
      ],
      "metadata": {
        "id": "GUyCb3llc9ZV"
      }
    },
    {
      "cell_type": "code",
      "source": [
        "#Imprimindo resultados\n",
        "print(\"O resultado do calculo1 é:\", calculo1)\n",
        "print(\"O resultado do calculo2 é:\", calculo2)"
      ],
      "metadata": {
        "colab": {
          "base_uri": "https://localhost:8080/"
        },
        "id": "Xm0pZHTwe8ft",
        "outputId": "cbc9cdaa-6c4e-472d-d8ad-060e03771331"
      },
      "execution_count": 162,
      "outputs": [
        {
          "output_type": "stream",
          "name": "stdout",
          "text": [
            "O resultado do calculo1 é: 3.4615384615384617\n",
            "O resultado do calculo2 é: -38.0012\n"
          ]
        }
      ]
    },
    {
      "cell_type": "markdown",
      "source": [
        "Mesmo com os prints mais organizados, ainda está meio estranho aqueles números com tantas casas decimais. Mas isso também dá para organizar, e dessa vez quem vai entrar em ação é o nosso amigo Format.\n",
        "\n",
        "<br>\n",
        "\n",
        "\n",
        "#FORMAT\n",
        "\n",
        ">É o método que nos permite formatar \"Strings\" de uma forma mais dinamica.\n",
        "\n",
        "<br>\n",
        "\n",
        "É com ele que nós vamos diminuir os números de casas decimais dos resultados dos cáuclos que usamos de exemplo, bora lá?\n",
        "\n",
        "*Antes, vamos imprimir os resultados mais uma vez para gente ver o quão estranhos os números são.*"
      ],
      "metadata": {
        "id": "KTvY8oMre9gr"
      }
    },
    {
      "cell_type": "code",
      "source": [
        "#Imprimindo resultados\n",
        "print(\"O resultado do calculo1 é:\", calculo1)\n",
        "print(\"O resultado do calculo2 é:\", calculo2)"
      ],
      "metadata": {
        "colab": {
          "base_uri": "https://localhost:8080/"
        },
        "id": "7cd_04VKoG1O",
        "outputId": "41e79b94-a4d2-465b-ed7c-1eefad03df7f"
      },
      "execution_count": 163,
      "outputs": [
        {
          "output_type": "stream",
          "name": "stdout",
          "text": [
            "O resultado do calculo1 é: 3.4615384615384617\n",
            "O resultado do calculo2 é: -38.0012\n"
          ]
        }
      ]
    },
    {
      "cell_type": "markdown",
      "source": [
        "Agora vamos imprimir usando o Format."
      ],
      "metadata": {
        "id": "_PHUdk8QoK1P"
      }
    },
    {
      "cell_type": "code",
      "source": [
        "#Imprimindo resultados com .format()\n",
        "print(\"O resultado do calculo1 é: {:.2f}\".format(calculo1))\n",
        "print(\"O resultado do calculo2 é: {:.2f}\".format(calculo2))"
      ],
      "metadata": {
        "colab": {
          "base_uri": "https://localhost:8080/"
        },
        "id": "k6AUIrKOr3tO",
        "outputId": "df3d7d45-7d89-4073-ec09-a68a1bd0a248"
      },
      "execution_count": 164,
      "outputs": [
        {
          "output_type": "stream",
          "name": "stdout",
          "text": [
            "O resultado do calculo1 é: 3.46\n",
            "O resultado do calculo2 é: -38.00\n"
          ]
        }
      ]
    },
    {
      "cell_type": "markdown",
      "source": [
        "Notou que os números agora se apresentão apenas com duas casas decimais?\n",
        "<br>\n",
        "Então, para recapitular:\n",
        "\n",
        "> *O Format é exatamente isso, um formatador.*\n",
        "* Você vai estipular dentro da `{}` qual o formato que o valor tem que ter.\n",
        "* E dentro do `.format()` você vai dizer quais as variáveis que serão formatadas.\n",
        "\n",
        "<br>\n",
        "\n",
        "O Format também pode ser escrito de várias formas diferentes dentro do código, e para além da estrutura mostrada até agora, existem muitos outros jeitos de escrevê-lo.\n",
        "\n",
        "Uma delas é esta:\n",
        "* `print(f\"mensagem {variável:formatação}\"`\n",
        "\n",
        "Segue o exemplo:"
      ],
      "metadata": {
        "id": "ln64Evx_oRZr"
      }
    },
    {
      "cell_type": "code",
      "source": [
        "#Imprimindo resultados com o .format() no começo do print()\n",
        "print(f\"O resultado do calculo1 é: {calculo1:.2f}\")\n",
        "print(f\"O resultado do calculo2 é: {calculo2:.2f}\")"
      ],
      "metadata": {
        "colab": {
          "base_uri": "https://localhost:8080/"
        },
        "id": "5EwAaC9qdVEg",
        "outputId": "a3dc03ac-8e9c-4b60-fe69-9fc319b2298d"
      },
      "execution_count": 165,
      "outputs": [
        {
          "output_type": "stream",
          "name": "stdout",
          "text": [
            "O resultado do calculo1 é: 3.46\n",
            "O resultado do calculo2 é: -38.00\n"
          ]
        }
      ]
    },
    {
      "cell_type": "markdown",
      "source": [
        "Mas para falar a verdade, tem jeito para caramba de escrever o Format. Você quem vai escolher como vai usá-lo."
      ],
      "metadata": {
        "id": "_pRoQprhtQ5i"
      }
    },
    {
      "cell_type": "code",
      "source": [
        "#Colocando as Variáveis e os Valores dentro do .format()\n",
        "texto1 = \"Meu nome é {nome}, estou estudando {conteudo}.\".format(nome = \"Gohan\", conteudo = \"Python\")\n",
        "\n",
        "#Colocando os Valores direto no .format() e numerando eles nas {}\n",
        "texto2 = \"Meu nome é {0}, estou estudando {1}.\".format(\"Goku\",\"Java\")\n",
        "\n",
        "#Colocando os Valores direto no .format() apenas\n",
        "texto3 = \"Meu nome é {}, estou estudando {}.\".format(\"Vegeta\",\"Cobol\")\n",
        "\n",
        "\n",
        "#Imprimindo os resultados\n",
        "print(texto1)\n",
        "print(texto2)\n",
        "print(texto3)"
      ],
      "metadata": {
        "colab": {
          "base_uri": "https://localhost:8080/"
        },
        "id": "liND5cu6Vof2",
        "outputId": "112f32e7-bf62-4f72-a6b7-65cab9f5e93e"
      },
      "execution_count": 166,
      "outputs": [
        {
          "output_type": "stream",
          "name": "stdout",
          "text": [
            "Meu nome é Gohan, estou estudando Python.\n",
            "Meu nome é Goku, estou estudando Java.\n",
            "Meu nome é Vegeta, estou estudando Cobol.\n"
          ]
        }
      ]
    },
    {
      "cell_type": "markdown",
      "source": [
        "#TIPOS DE FORMATAÇÃO\n",
        "\n",
        "Existe uma tabela com os tipos de formataçoes que o Format faz, e essas formatações podem, ou não, servir para o que você precisa. \n",
        "\n",
        "Tipo esse exemplo aqui, onde eu tenho vários números, com várias casas decimais, e quero diminuir essas casas para melhor vizualizá-los. Usando o `:f` do `.format()` é possivel."
      ],
      "metadata": {
        "id": "iHEiLrGew-Cx"
      }
    },
    {
      "cell_type": "code",
      "source": [
        "#Variáveis com valores\n",
        "a = 10.021646486465\n",
        "b = 11.646545665468468465\n",
        "c = 12.02020050515487\n",
        "d = 13.65468498465468\n",
        "e = 14.6000761231000000545\n",
        "f = 15.1255455558888\n",
        "\n",
        "#Print formatado\n",
        "print(f\"O .1f faz o número aparecer com 1 casa deciml {a:.1f}\")\n",
        "print(f\"O .2f faz o número aparecer com 2 casas decimais {b:.2f}\")\n",
        "print(f\"O .3f faz o número aparecer com 3 casas decimais {c:.3f}\")\n",
        "print(f\"O .4f faz o número aparecer com 4 casas decimais {d:.4f}\")\n",
        "print(f\"O .5f faz o número aparecer com 5 casas decimais {e:.5f}\")\n",
        "print(f\"O .6f faz o número aparecer com 6 casas decimais {f:.6f}\")\n",
        "print(\"E assim por diante...\")"
      ],
      "metadata": {
        "colab": {
          "base_uri": "https://localhost:8080/"
        },
        "id": "xxNd-DTxGs2s",
        "outputId": "b3583d60-fa47-48cf-e0a8-2008b400feb8"
      },
      "execution_count": 167,
      "outputs": [
        {
          "output_type": "stream",
          "name": "stdout",
          "text": [
            "O .1f faz o número aparecer com 1 casa deciml 10.0\n",
            "O .2f faz o número aparecer com 2 casas decimais 11.65\n",
            "O .3f faz o número aparecer com 3 casas decimais 12.020\n",
            "O .4f faz o número aparecer com 4 casas decimais 13.6547\n",
            "O .5f faz o número aparecer com 5 casas decimais 14.60008\n",
            "O .6f faz o número aparecer com 6 casas decimais 15.125546\n",
            "E assim por diante...\n"
          ]
        }
      ]
    },
    {
      "cell_type": "markdown",
      "source": [
        "Para não me alongar mais, vou deixar aqui dois links que ajudam a entender mais sobre formatações. Divirta-se.\n",
        "* [Python Academy - como usar f-string no Python](https://pythonacademy.com.br/blog/f-strings-no-python)\n",
        "* [w3 Schools - Python String format( ) Method](https://www.w3schools.com/python/ref_string_format.asp)"
      ],
      "metadata": {
        "id": "mcYrHUMULgFT"
      }
    }
  ]
}
